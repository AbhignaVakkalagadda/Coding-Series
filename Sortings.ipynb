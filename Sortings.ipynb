{
  "nbformat": 4,
  "nbformat_minor": 0,
  "metadata": {
    "colab": {
      "provenance": []
    },
    "kernelspec": {
      "name": "python3",
      "display_name": "Python 3"
    },
    "language_info": {
      "name": "python"
    }
  },
  "cells": [
    {
      "cell_type": "markdown",
      "source": [
        "**08-07-20254**"
      ],
      "metadata": {
        "id": "N2WzD9XQMpQt"
      }
    },
    {
      "cell_type": "markdown",
      "source": [
        "**sortings**\n",
        "\n",
        "**Bubble sort**\n",
        "\n",
        "**Algo**\n",
        "\n",
        "1.start from the begining of the array\n",
        "\n",
        "2.comapare each pair to adjacent number\n",
        "\n",
        "3.if latest element is greater than adjacent perform swap\n",
        "\n",
        "4.repeat the process till n-1\n",
        "\n",
        "5.after each cycle /pass largest unsorted element would be in correct position\n",
        "6.repeat the process till all the elements are sorted\n"
      ],
      "metadata": {
        "id": "d7eoFuroSsZq"
      }
    },
    {
      "cell_type": "markdown",
      "source": [
        "**pseudo code:**\n",
        "\n",
        "for i -> 0 to n-1:\n",
        "\n",
        "for j -> 0 to n-i-2\n",
        "\n",
        "if a[j]>a[j+1]\n",
        "\n",
        "swap(a[j],a[j+1])\n"
      ],
      "metadata": {
        "id": "xD3fpXCEV807"
      }
    },
    {
      "cell_type": "markdown",
      "source": [
        "Best case Time Complexity O(n)\n",
        "O(n^2) Worst case\n",
        "O(1) Space Complexity"
      ],
      "metadata": {
        "id": "BDAh6D7PbBrD"
      }
    },
    {
      "cell_type": "code",
      "execution_count": null,
      "metadata": {
        "id": "-UQ7TuR2MnNM",
        "colab": {
          "base_uri": "https://localhost:8080/"
        },
        "outputId": "9b944173-8d54-4de1-ab03-02a282a5242e"
      },
      "outputs": [
        {
          "output_type": "stream",
          "name": "stdout",
          "text": [
            "Enter the size of the array:5\n",
            "Elements in the array:\n",
            "11\n",
            "19\n",
            "24\n",
            "38\n",
            "0\n",
            "Original list: [11, 19, 24, 38, 0]\n",
            "Bubble Sorted list: [0, 11, 19, 24, 38]\n"
          ]
        }
      ],
      "source": [
        "def bubble_sort(arr):\n",
        "  n=len(arr)\n",
        "  for i in range(n):\n",
        "    for j in range (0,n-i-1):\n",
        "      if arr[j]>arr[j+1]:\n",
        "        arr[j],arr[j+1]=arr[j+1],arr[j]\n",
        "  return arr\n",
        "size=int(input(\"Enter the size of the array:\"))\n",
        "arr=[]\n",
        "print(\"Elements in the array:\")\n",
        "for _ in range(size):\n",
        "  arr.append(int(input()))\n",
        "print(\"Original list:\",arr)\n",
        "bubble_sort(arr)\n",
        "print(\"Bubble Sorted list:\",arr)"
      ]
    },
    {
      "cell_type": "markdown",
      "source": [
        "**Counting sort**\n",
        "\n"
      ],
      "metadata": {
        "id": "tgMzq4wxbeus"
      }
    },
    {
      "cell_type": "code",
      "source": [
        "arr=[2,1,1,0,2,5,4,0,2,8,7,7,9,2,0,1,9]\n",
        "len(arr)\n",
        "arr.count(0)"
      ],
      "metadata": {
        "colab": {
          "base_uri": "https://localhost:8080/"
        },
        "id": "KRtkA7Lib4yT",
        "outputId": "0fb12270-d72b-4185-efc0-80fc250ca3e1"
      },
      "execution_count": null,
      "outputs": [
        {
          "output_type": "execute_result",
          "data": {
            "text/plain": [
              "3"
            ]
          },
          "metadata": {},
          "execution_count": 7
        }
      ]
    },
    {
      "cell_type": "markdown",
      "source": [
        "**pseudo code**\n",
        "\n",
        "countsort(arr,n)\n",
        "\n",
        "1.find max in arr\n",
        "\n",
        "2.create count(0-max)\n",
        "\n",
        "3.for i-> to n-1:\n",
        "\n",
        "count[a[i]]+=1\n",
        "\n",
        "4.for i-> 1 to max:\n",
        "\n",
        "count[i]+=count[i-1]\n",
        "\n",
        "create output arr[n]\n",
        "\n",
        "5.for i->n-1 to 0:\n",
        "\n",
        "output count[arr[i]]-1=arr[i]\n",
        "\n",
        "count[arr[i]]-=1\n",
        "\n",
        "copy output to array\n",
        "\n",
        "**--------------------------------------------------------------------------------**\n",
        "\n",
        "for i=0,i<n,i++\n",
        "\n",
        "count(1,n,k)\n",
        "\n",
        "int(count(k+1)\n",
        "\n",
        "for i =1,i<=k,i++\n",
        "\n",
        "c[i]=c[i]+c[i+1]\n"
      ],
      "metadata": {
        "id": "mjk0QCMkeQ4k"
      }
    },
    {
      "cell_type": "markdown",
      "source": [
        "non-comparision sort\n",
        "\n",
        "1.no negative numbers should be present in the array\n",
        "\n",
        "2.it doesnot support long numbers like the range must be confined  example like grading of students\n",
        "\n",
        "3.short confined numbers only ex: 0-100\n",
        "\n",
        "**Algo**\n",
        "\n",
        "1.find max min of array\n",
        "\n",
        "2.min should not be less than 0\n",
        "\n",
        "3.create the count array TO STORE THE FREQUENCY OF NUMBERS\n",
        "\n",
        "4.modify the count array for each element to be stored the sum of previous counts\n",
        "\n",
        "5.place the output array back to the original array"
      ],
      "metadata": {
        "id": "-v6yEkpJm2E9"
      }
    },
    {
      "cell_type": "markdown",
      "source": [
        "**Time complexity ,space complexity-O(n+k)**"
      ],
      "metadata": {
        "id": "uipgLVLGqYal"
      }
    },
    {
      "cell_type": "code",
      "source": [
        "def csort(arr):\n",
        "  if not arr:\n",
        "    return []\n",
        "  max_val=max(arr)\n",
        "  count=[0]*(max_val+1)\n",
        "  for num in arr:\n",
        "    count[num]+=1\n",
        "  for i in range(1,len(count)):\n",
        "    count[i]+=count[i-1]\n",
        "  output=[0]*len(arr)\n",
        "  for num in reversed(arr):\n",
        "    output[count[num]-1]=num\n",
        "    count[num] -=1\n",
        "  return output\n",
        "arr=[4,2,7,2,8,9,10,11,12,2,3,4,5,6,7,1,2,1,0,9,0,6]\n",
        "print(\"Before:\",arr)\n",
        "sorted_arr = csort(arr)\n",
        "print(\"After:\",sorted_arr)"
      ],
      "metadata": {
        "colab": {
          "base_uri": "https://localhost:8080/"
        },
        "id": "ofB1eOtncIOd",
        "outputId": "43ab0dc0-b6f1-477a-a56c-b66bfd711e48"
      },
      "execution_count": null,
      "outputs": [
        {
          "output_type": "stream",
          "name": "stdout",
          "text": [
            "Before: [4, 2, 7, 2, 8, 9, 10, 11, 12, 2, 3, 4, 5, 6, 7, 1, 2, 1, 0, 9, 0, 6]\n",
            "After: [0, 0, 1, 1, 2, 2, 2, 2, 3, 4, 4, 5, 6, 6, 7, 7, 8, 9, 9, 10, 11, 12]\n"
          ]
        }
      ]
    },
    {
      "cell_type": "code",
      "source": [
        "def csort(arr):\n",
        "  if not arr:\n",
        "    return []\n",
        "  max_val=max(arr)\n",
        "  count=[0]*(max_val+1)\n",
        "  for num in arr:\n",
        "    count[num]+=1\n",
        "  for i in range(1,len(count)):\n",
        "    count[i]+=count[i-1]\n",
        "  output=[0]*len(arr)\n",
        "  for num in reversed(arr):\n",
        "    output[count[num]-1]=num\n",
        "    count[num] -=1\n",
        "  return output\n",
        "arr=['banana','apple','banana','apple','orange','orange','apple','grapes','grapes']\n",
        "print(\"Before:\",arr)\n",
        "sorted_arr = csort(arr)\n",
        "print(\"After:\",sorted_arr)"
      ],
      "metadata": {
        "id": "ugaF_avEs3R_",
        "colab": {
          "base_uri": "https://localhost:8080/",
          "height": 332
        },
        "outputId": "4f1e7682-79fb-4ce8-bba0-6b9536e279fb"
      },
      "execution_count": null,
      "outputs": [
        {
          "output_type": "stream",
          "name": "stdout",
          "text": [
            "Before: ['banana', 'apple', 'banana', 'apple', 'orange', 'orange', 'apple', 'grapes', 'grapes']\n"
          ]
        },
        {
          "output_type": "error",
          "ename": "TypeError",
          "evalue": "can only concatenate str (not \"int\") to str",
          "traceback": [
            "\u001b[0;31m---------------------------------------------------------------------------\u001b[0m",
            "\u001b[0;31mTypeError\u001b[0m                                 Traceback (most recent call last)",
            "\u001b[0;32m/tmp/ipython-input-14-3090492505.py\u001b[0m in \u001b[0;36m<cell line: 0>\u001b[0;34m()\u001b[0m\n\u001b[1;32m     15\u001b[0m \u001b[0marr\u001b[0m\u001b[0;34m=\u001b[0m\u001b[0;34m[\u001b[0m\u001b[0;34m'banana'\u001b[0m\u001b[0;34m,\u001b[0m\u001b[0;34m'apple'\u001b[0m\u001b[0;34m,\u001b[0m\u001b[0;34m'banana'\u001b[0m\u001b[0;34m,\u001b[0m\u001b[0;34m'apple'\u001b[0m\u001b[0;34m,\u001b[0m\u001b[0;34m'orange'\u001b[0m\u001b[0;34m,\u001b[0m\u001b[0;34m'orange'\u001b[0m\u001b[0;34m,\u001b[0m\u001b[0;34m'apple'\u001b[0m\u001b[0;34m,\u001b[0m\u001b[0;34m'grapes'\u001b[0m\u001b[0;34m,\u001b[0m\u001b[0;34m'grapes'\u001b[0m\u001b[0;34m]\u001b[0m\u001b[0;34m\u001b[0m\u001b[0;34m\u001b[0m\u001b[0m\n\u001b[1;32m     16\u001b[0m \u001b[0mprint\u001b[0m\u001b[0;34m(\u001b[0m\u001b[0;34m\"Before:\"\u001b[0m\u001b[0;34m,\u001b[0m\u001b[0marr\u001b[0m\u001b[0;34m)\u001b[0m\u001b[0;34m\u001b[0m\u001b[0;34m\u001b[0m\u001b[0m\n\u001b[0;32m---> 17\u001b[0;31m \u001b[0msorted_arr\u001b[0m \u001b[0;34m=\u001b[0m \u001b[0mcsort\u001b[0m\u001b[0;34m(\u001b[0m\u001b[0marr\u001b[0m\u001b[0;34m)\u001b[0m\u001b[0;34m\u001b[0m\u001b[0;34m\u001b[0m\u001b[0m\n\u001b[0m\u001b[1;32m     18\u001b[0m \u001b[0mprint\u001b[0m\u001b[0;34m(\u001b[0m\u001b[0;34m\"After:\"\u001b[0m\u001b[0;34m,\u001b[0m\u001b[0msorted_arr\u001b[0m\u001b[0;34m)\u001b[0m\u001b[0;34m\u001b[0m\u001b[0;34m\u001b[0m\u001b[0m\n",
            "\u001b[0;32m/tmp/ipython-input-14-3090492505.py\u001b[0m in \u001b[0;36mcsort\u001b[0;34m(arr)\u001b[0m\n\u001b[1;32m      3\u001b[0m     \u001b[0;32mreturn\u001b[0m \u001b[0;34m[\u001b[0m\u001b[0;34m]\u001b[0m\u001b[0;34m\u001b[0m\u001b[0;34m\u001b[0m\u001b[0m\n\u001b[1;32m      4\u001b[0m   \u001b[0mmax_val\u001b[0m\u001b[0;34m=\u001b[0m\u001b[0mmax\u001b[0m\u001b[0;34m(\u001b[0m\u001b[0marr\u001b[0m\u001b[0;34m)\u001b[0m\u001b[0;34m\u001b[0m\u001b[0;34m\u001b[0m\u001b[0m\n\u001b[0;32m----> 5\u001b[0;31m   \u001b[0mcount\u001b[0m\u001b[0;34m=\u001b[0m\u001b[0;34m[\u001b[0m\u001b[0;36m0\u001b[0m\u001b[0;34m]\u001b[0m\u001b[0;34m*\u001b[0m\u001b[0;34m(\u001b[0m\u001b[0mmax_val\u001b[0m\u001b[0;34m+\u001b[0m\u001b[0;36m1\u001b[0m\u001b[0;34m)\u001b[0m\u001b[0;34m\u001b[0m\u001b[0;34m\u001b[0m\u001b[0m\n\u001b[0m\u001b[1;32m      6\u001b[0m   \u001b[0;32mfor\u001b[0m \u001b[0mnum\u001b[0m \u001b[0;32min\u001b[0m \u001b[0marr\u001b[0m\u001b[0;34m:\u001b[0m\u001b[0;34m\u001b[0m\u001b[0;34m\u001b[0m\u001b[0m\n\u001b[1;32m      7\u001b[0m     \u001b[0mcount\u001b[0m\u001b[0;34m[\u001b[0m\u001b[0mnum\u001b[0m\u001b[0;34m]\u001b[0m\u001b[0;34m+=\u001b[0m\u001b[0;36m1\u001b[0m\u001b[0;34m\u001b[0m\u001b[0;34m\u001b[0m\u001b[0m\n",
            "\u001b[0;31mTypeError\u001b[0m: can only concatenate str (not \"int\") to str"
          ]
        }
      ]
    },
    {
      "cell_type": "code",
      "metadata": {
        "colab": {
          "base_uri": "https://localhost:8080/"
        },
        "id": "f934ff25",
        "outputId": "5a9e3b58-541d-4156-e024-a6a31188d120"
      },
      "source": [
        "arr = ['banana','apple','banana','apple','orange','orange','apple','grapes','grapes']\n",
        "print(\"Before:\", arr)\n",
        "sorted_arr = sorted(arr)\n",
        "print(\"Sorted list:\", sorted_arr)"
      ],
      "execution_count": null,
      "outputs": [
        {
          "output_type": "stream",
          "name": "stdout",
          "text": [
            "Before: ['banana', 'apple', 'banana', 'apple', 'orange', 'orange', 'apple', 'grapes', 'grapes']\n",
            "Sorted list: ['apple', 'apple', 'apple', 'banana', 'banana', 'grapes', 'grapes', 'orange', 'orange']\n"
          ]
        }
      ]
    }
  ]
}