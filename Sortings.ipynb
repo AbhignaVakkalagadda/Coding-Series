{
  "nbformat": 4,
  "nbformat_minor": 0,
  "metadata": {
    "colab": {
      "provenance": []
    },
    "kernelspec": {
      "name": "python3",
      "display_name": "Python 3"
    },
    "language_info": {
      "name": "python"
    }
  },
  "cells": [
    {
      "cell_type": "markdown",
      "source": [
        "**08-07-20254**"
      ],
      "metadata": {
        "id": "N2WzD9XQMpQt"
      }
    },
    {
      "cell_type": "markdown",
      "source": [
        "**sortings**\n",
        "\n",
        "**Bubble sort**\n",
        "\n",
        "**Algo**\n",
        "\n",
        "1.start from the begining of the array\n",
        "\n",
        "2.comapare each pair to adjacent number\n",
        "\n",
        "3.if latest element is greater than adjacent perform swap\n",
        "\n",
        "4.repeat the process till n-1\n",
        "\n",
        "5.after each cycle /pass largest unsorted element would be in correct position\n",
        "6.repeat the process till all the elements are sorted\n"
      ],
      "metadata": {
        "id": "d7eoFuroSsZq"
      }
    },
    {
      "cell_type": "markdown",
      "source": [
        "**pseudo code:**\n",
        "\n",
        "for i -> 0 to n-1:\n",
        "\n",
        "for j -> 0 to n-i-2\n",
        "\n",
        "if a[j]>a[j+1]\n",
        "\n",
        "swap(a[j],a[j+1])\n"
      ],
      "metadata": {
        "id": "xD3fpXCEV807"
      }
    },
    {
      "cell_type": "markdown",
      "source": [
        "Best case Time Complexity O(n)\n",
        "O(n^2) Worst case\n",
        "O(1) Space Complexity"
      ],
      "metadata": {
        "id": "BDAh6D7PbBrD"
      }
    },
    {
      "cell_type": "code",
      "execution_count": null,
      "metadata": {
        "id": "-UQ7TuR2MnNM",
        "colab": {
          "base_uri": "https://localhost:8080/"
        },
        "outputId": "9b944173-8d54-4de1-ab03-02a282a5242e"
      },
      "outputs": [
        {
          "output_type": "stream",
          "name": "stdout",
          "text": [
            "Enter the size of the array:5\n",
            "Elements in the array:\n",
            "11\n",
            "19\n",
            "24\n",
            "38\n",
            "0\n",
            "Original list: [11, 19, 24, 38, 0]\n",
            "Bubble Sorted list: [0, 11, 19, 24, 38]\n"
          ]
        }
      ],
      "source": [
        "def bubble_sort(arr):\n",
        "  n=len(arr)\n",
        "  for i in range(n):\n",
        "    for j in range (0,n-i-1):\n",
        "      if arr[j]>arr[j+1]:\n",
        "        arr[j],arr[j+1]=arr[j+1],arr[j]\n",
        "  return arr\n",
        "size=int(input(\"Enter the size of the array:\"))\n",
        "arr=[]\n",
        "print(\"Elements in the array:\")\n",
        "for _ in range(size):\n",
        "  arr.append(int(input()))\n",
        "print(\"Original list:\",arr)\n",
        "bubble_sort(arr)\n",
        "print(\"Bubble Sorted list:\",arr)"
      ]
    },
    {
      "cell_type": "markdown",
      "source": [
        "**Counting sort**\n",
        "\n"
      ],
      "metadata": {
        "id": "tgMzq4wxbeus"
      }
    },
    {
      "cell_type": "code",
      "source": [
        "arr=[2,1,1,0,2,5,4,0,2,8,7,7,9,2,0,1,9]\n",
        "len(arr)\n",
        "arr.count(0)"
      ],
      "metadata": {
        "colab": {
          "base_uri": "https://localhost:8080/"
        },
        "id": "KRtkA7Lib4yT",
        "outputId": "0fb12270-d72b-4185-efc0-80fc250ca3e1"
      },
      "execution_count": null,
      "outputs": [
        {
          "output_type": "execute_result",
          "data": {
            "text/plain": [
              "3"
            ]
          },
          "metadata": {},
          "execution_count": 7
        }
      ]
    },
    {
      "cell_type": "markdown",
      "source": [
        "**pseudo code**\n",
        "\n",
        "countsort(arr,n)\n",
        "\n",
        "1.find max in arr\n",
        "\n",
        "2.create count(0-max)\n",
        "\n",
        "3.for i-> to n-1:\n",
        "\n",
        "count[a[i]]+=1\n",
        "\n",
        "4.for i-> 1 to max:\n",
        "\n",
        "count[i]+=count[i-1]\n",
        "\n",
        "create output arr[n]\n",
        "\n",
        "5.for i->n-1 to 0:\n",
        "\n",
        "output count[arr[i]]-1=arr[i]\n",
        "\n",
        "count[arr[i]]-=1\n",
        "\n",
        "copy output to array\n",
        "\n",
        "**--------------------------------------------------------------------------------**\n",
        "\n",
        "for i=0,i<n,i++\n",
        "\n",
        "count(1,n,k)\n",
        "\n",
        "int(count(k+1)\n",
        "\n",
        "for i =1,i<=k,i++\n",
        "\n",
        "c[i]=c[i]+c[i+1]\n"
      ],
      "metadata": {
        "id": "mjk0QCMkeQ4k"
      }
    },
    {
      "cell_type": "markdown",
      "source": [
        "non-comparision sort\n",
        "\n",
        "1.no negative numbers should be present in the array\n",
        "\n",
        "2.it doesnot support long numbers like the range must be confined  example like grading of students\n",
        "\n",
        "3.short confined numbers only ex: 0-100\n",
        "\n",
        "**Algo**\n",
        "\n",
        "1.find max min of array\n",
        "\n",
        "2.min should not be less than 0\n",
        "\n",
        "3.create the count array TO STORE THE FREQUENCY OF NUMBERS\n",
        "\n",
        "4.modify the count array for each element to be stored the sum of previous counts\n",
        "\n",
        "5.place the output array back to the original array"
      ],
      "metadata": {
        "id": "-v6yEkpJm2E9"
      }
    },
    {
      "cell_type": "markdown",
      "source": [
        "**Time complexity ,space complexity-O(n+k)**"
      ],
      "metadata": {
        "id": "uipgLVLGqYal"
      }
    },
    {
      "cell_type": "code",
      "source": [
        "def csort(arr):\n",
        "  if not arr:\n",
        "    return []\n",
        "  max_val=max(arr)\n",
        "  count=[0]*(max_val+1)\n",
        "  for num in arr:\n",
        "    count[num]+=1\n",
        "  for i in range(1,len(count)):\n",
        "    count[i]+=count[i-1]\n",
        "  output=[0]*len(arr)\n",
        "  for num in reversed(arr):\n",
        "    output[count[num]-1]=num\n",
        "    count[num] -=1\n",
        "  return output\n",
        "arr=[4,2,7,2,8,9,10,11,12,2,3,4,5,6,7,1,2,1,0,9,0,6]\n",
        "print(\"Before:\",arr)\n",
        "sorted_arr = csort(arr)\n",
        "print(\"After:\",sorted_arr)"
      ],
      "metadata": {
        "colab": {
          "base_uri": "https://localhost:8080/"
        },
        "id": "ofB1eOtncIOd",
        "outputId": "43ab0dc0-b6f1-477a-a56c-b66bfd711e48"
      },
      "execution_count": null,
      "outputs": [
        {
          "output_type": "stream",
          "name": "stdout",
          "text": [
            "Before: [4, 2, 7, 2, 8, 9, 10, 11, 12, 2, 3, 4, 5, 6, 7, 1, 2, 1, 0, 9, 0, 6]\n",
            "After: [0, 0, 1, 1, 2, 2, 2, 2, 3, 4, 4, 5, 6, 6, 7, 7, 8, 9, 9, 10, 11, 12]\n"
          ]
        }
      ]
    },
    {
      "cell_type": "code",
      "source": [
        "def csort(arr):\n",
        "  if not arr:\n",
        "    return []\n",
        "  max_val=max(arr)\n",
        "  count=[0]*(max_val+1)\n",
        "  for num in arr:\n",
        "    count[num]+=1\n",
        "  for i in range(1,len(count)):\n",
        "    count[i]+=count[i-1]\n",
        "  output=[0]*len(arr)\n",
        "  for num in reversed(arr):\n",
        "    output[count[num]-1]=num\n",
        "    count[num] -=1\n",
        "  return output\n",
        "arr=['banana','apple','banana','apple','orange','orange','apple','grapes','grapes']\n",
        "print(\"Before:\",arr)\n",
        "sorted_arr = csort(arr)\n",
        "print(\"After:\",sorted_arr)"
      ],
      "metadata": {
        "id": "ugaF_avEs3R_",
        "colab": {
          "base_uri": "https://localhost:8080/",
          "height": 332
        },
        "outputId": "4f1e7682-79fb-4ce8-bba0-6b9536e279fb"
      },
      "execution_count": null,
      "outputs": [
        {
          "output_type": "stream",
          "name": "stdout",
          "text": [
            "Before: ['banana', 'apple', 'banana', 'apple', 'orange', 'orange', 'apple', 'grapes', 'grapes']\n"
          ]
        },
        {
          "output_type": "error",
          "ename": "TypeError",
          "evalue": "can only concatenate str (not \"int\") to str",
          "traceback": [
            "\u001b[0;31m---------------------------------------------------------------------------\u001b[0m",
            "\u001b[0;31mTypeError\u001b[0m                                 Traceback (most recent call last)",
            "\u001b[0;32m/tmp/ipython-input-14-3090492505.py\u001b[0m in \u001b[0;36m<cell line: 0>\u001b[0;34m()\u001b[0m\n\u001b[1;32m     15\u001b[0m \u001b[0marr\u001b[0m\u001b[0;34m=\u001b[0m\u001b[0;34m[\u001b[0m\u001b[0;34m'banana'\u001b[0m\u001b[0;34m,\u001b[0m\u001b[0;34m'apple'\u001b[0m\u001b[0;34m,\u001b[0m\u001b[0;34m'banana'\u001b[0m\u001b[0;34m,\u001b[0m\u001b[0;34m'apple'\u001b[0m\u001b[0;34m,\u001b[0m\u001b[0;34m'orange'\u001b[0m\u001b[0;34m,\u001b[0m\u001b[0;34m'orange'\u001b[0m\u001b[0;34m,\u001b[0m\u001b[0;34m'apple'\u001b[0m\u001b[0;34m,\u001b[0m\u001b[0;34m'grapes'\u001b[0m\u001b[0;34m,\u001b[0m\u001b[0;34m'grapes'\u001b[0m\u001b[0;34m]\u001b[0m\u001b[0;34m\u001b[0m\u001b[0;34m\u001b[0m\u001b[0m\n\u001b[1;32m     16\u001b[0m \u001b[0mprint\u001b[0m\u001b[0;34m(\u001b[0m\u001b[0;34m\"Before:\"\u001b[0m\u001b[0;34m,\u001b[0m\u001b[0marr\u001b[0m\u001b[0;34m)\u001b[0m\u001b[0;34m\u001b[0m\u001b[0;34m\u001b[0m\u001b[0m\n\u001b[0;32m---> 17\u001b[0;31m \u001b[0msorted_arr\u001b[0m \u001b[0;34m=\u001b[0m \u001b[0mcsort\u001b[0m\u001b[0;34m(\u001b[0m\u001b[0marr\u001b[0m\u001b[0;34m)\u001b[0m\u001b[0;34m\u001b[0m\u001b[0;34m\u001b[0m\u001b[0m\n\u001b[0m\u001b[1;32m     18\u001b[0m \u001b[0mprint\u001b[0m\u001b[0;34m(\u001b[0m\u001b[0;34m\"After:\"\u001b[0m\u001b[0;34m,\u001b[0m\u001b[0msorted_arr\u001b[0m\u001b[0;34m)\u001b[0m\u001b[0;34m\u001b[0m\u001b[0;34m\u001b[0m\u001b[0m\n",
            "\u001b[0;32m/tmp/ipython-input-14-3090492505.py\u001b[0m in \u001b[0;36mcsort\u001b[0;34m(arr)\u001b[0m\n\u001b[1;32m      3\u001b[0m     \u001b[0;32mreturn\u001b[0m \u001b[0;34m[\u001b[0m\u001b[0;34m]\u001b[0m\u001b[0;34m\u001b[0m\u001b[0;34m\u001b[0m\u001b[0m\n\u001b[1;32m      4\u001b[0m   \u001b[0mmax_val\u001b[0m\u001b[0;34m=\u001b[0m\u001b[0mmax\u001b[0m\u001b[0;34m(\u001b[0m\u001b[0marr\u001b[0m\u001b[0;34m)\u001b[0m\u001b[0;34m\u001b[0m\u001b[0;34m\u001b[0m\u001b[0m\n\u001b[0;32m----> 5\u001b[0;31m   \u001b[0mcount\u001b[0m\u001b[0;34m=\u001b[0m\u001b[0;34m[\u001b[0m\u001b[0;36m0\u001b[0m\u001b[0;34m]\u001b[0m\u001b[0;34m*\u001b[0m\u001b[0;34m(\u001b[0m\u001b[0mmax_val\u001b[0m\u001b[0;34m+\u001b[0m\u001b[0;36m1\u001b[0m\u001b[0;34m)\u001b[0m\u001b[0;34m\u001b[0m\u001b[0;34m\u001b[0m\u001b[0m\n\u001b[0m\u001b[1;32m      6\u001b[0m   \u001b[0;32mfor\u001b[0m \u001b[0mnum\u001b[0m \u001b[0;32min\u001b[0m \u001b[0marr\u001b[0m\u001b[0;34m:\u001b[0m\u001b[0;34m\u001b[0m\u001b[0;34m\u001b[0m\u001b[0m\n\u001b[1;32m      7\u001b[0m     \u001b[0mcount\u001b[0m\u001b[0;34m[\u001b[0m\u001b[0mnum\u001b[0m\u001b[0;34m]\u001b[0m\u001b[0;34m+=\u001b[0m\u001b[0;36m1\u001b[0m\u001b[0;34m\u001b[0m\u001b[0;34m\u001b[0m\u001b[0m\n",
            "\u001b[0;31mTypeError\u001b[0m: can only concatenate str (not \"int\") to str"
          ]
        }
      ]
    },
    {
      "cell_type": "code",
      "metadata": {
        "colab": {
          "base_uri": "https://localhost:8080/"
        },
        "id": "f934ff25",
        "outputId": "5a9e3b58-541d-4156-e024-a6a31188d120"
      },
      "source": [
        "arr = ['banana','apple','banana','apple','orange','orange','apple','grapes','grapes']\n",
        "print(\"Before:\", arr)\n",
        "sorted_arr = sorted(arr)\n",
        "print(\"Sorted list:\", sorted_arr)"
      ],
      "execution_count": null,
      "outputs": [
        {
          "output_type": "stream",
          "name": "stdout",
          "text": [
            "Before: ['banana', 'apple', 'banana', 'apple', 'orange', 'orange', 'apple', 'grapes', 'grapes']\n",
            "Sorted list: ['apple', 'apple', 'apple', 'banana', 'banana', 'grapes', 'grapes', 'orange', 'orange']\n"
          ]
        }
      ]
    },
    {
      "cell_type": "markdown",
      "source": [
        "**10-07-2025**"
      ],
      "metadata": {
        "id": "QpJHIZmUZDSx"
      }
    },
    {
      "cell_type": "markdown",
      "source": [
        "**count sort for strings**"
      ],
      "metadata": {
        "id": "qV-XivcvZ8MY"
      }
    },
    {
      "cell_type": "code",
      "source": [
        "def csortString(s):\n",
        "  count=[0]*26\n",
        "  for char in s:\n",
        "    count[ord(char)-ord('a')]+=1\n",
        "  sorted_name=''\n",
        "  for i in range(26):\n",
        "    sorted_name+=chr(i+ord('a'))*count[i]\n",
        "  return sorted_name\n",
        "name=input(\"Enter a single word \")\n",
        "sorted_name=csortString(name)\n",
        "print(\"Sorted string:\",sorted_name)"
      ],
      "metadata": {
        "colab": {
          "base_uri": "https://localhost:8080/"
        },
        "id": "XI4s3jtrZHCo",
        "outputId": "b757275e-b8b5-4f99-ad7d-9f6d3b3a7682"
      },
      "execution_count": null,
      "outputs": [
        {
          "output_type": "stream",
          "name": "stdout",
          "text": [
            "Enter a single word mississippiii\n",
            "Sorted string: iiiiiimppssss\n"
          ]
        }
      ]
    },
    {
      "cell_type": "code",
      "source": [
        "def csortString(s):\n",
        "  count=[0]*26\n",
        "  for char in s:\n",
        "    count[ord(char)-ord('a')]+=1\n",
        "  sorted_name=''\n",
        "  for i in range(26):\n",
        "    sorted_name+=chr(i+ord('a'))*count[i]\n",
        "  return sorted_name\n",
        "name=input(\"Enter a single word \")\n",
        "sorted_name=csortString(name)\n",
        "print(\"Sorted string:\",sorted_name)"
      ],
      "metadata": {
        "colab": {
          "base_uri": "https://localhost:8080/"
        },
        "id": "Mp4_mUpnbWLK",
        "outputId": "f469488f-c3bd-441a-e4f3-2dd7d2d70447"
      },
      "execution_count": null,
      "outputs": [
        {
          "output_type": "stream",
          "name": "stdout",
          "text": [
            "Enter a single word abhiiiignnnnaaa\n",
            "Sorted string: aaaabghiiiinnnn\n"
          ]
        }
      ]
    },
    {
      "cell_type": "markdown",
      "source": [
        "**radix sort**\n",
        "\n",
        "1.find the maximum number to determine number of digits\n",
        "\n",
        "2.set 10^0,for digit position\n",
        "\n",
        "3.increment digit position with respect to pass\n",
        "\n",
        "4.if maximum //exp>0\n",
        "\n",
        "perform count sort based on current digit (num//exp)%10\n",
        "\n",
        "multiply exp by 10\n"
      ],
      "metadata": {
        "id": "xN8ctRYepxtH"
      }
    },
    {
      "cell_type": "code",
      "source": [
        "def count_sort(arr,exp):\n",
        "  n=len(arr)\n",
        "  output=[0]*n\n",
        "  count=[0]*10\n",
        "  for i in range(n):\n",
        "    index = (arr[i]//exp)%10\n",
        "    count[index]+=1\n",
        "  for i in range(1,10):\n",
        "    count[i]+=count[i-1]\n",
        "  i=n-1\n",
        "  while i>=0:\n",
        "    index = (arr[i]//exp)%10\n",
        "    output[count[index]-1]=arr[i]\n",
        "    count[index]-=1\n",
        "    i-=1\n",
        "  for i in range(n):\n",
        "    arr[i]=output[i]\n",
        "def radix_sort(arr):\n",
        "  max_num=max(arr)\n",
        "  exp=1\n",
        "  while max_num//exp>0:\n",
        "    count_sort(arr,exp)\n",
        "    exp*=10\n",
        "arr=[170,45,75,90,802,24,2,66]\n",
        "print(\"Before sort\",arr)\n",
        "radix_sort(arr)\n",
        "print(\"After sort\",arr)\n"
      ],
      "metadata": {
        "id": "k8mQvVIfdnwo",
        "colab": {
          "base_uri": "https://localhost:8080/"
        },
        "outputId": "7bf2ddaf-870c-4ede-ec87-94c7033b370c"
      },
      "execution_count": null,
      "outputs": [
        {
          "output_type": "stream",
          "name": "stdout",
          "text": [
            "Before sort [170, 45, 75, 90, 802, 24, 2, 66]\n",
            "After sort [2, 24, 45, 66, 75, 90, 170, 802]\n"
          ]
        }
      ]
    },
    {
      "cell_type": "markdown",
      "source": [
        "**12-07-25**"
      ],
      "metadata": {
        "id": "FiqdoZFJ0a7m"
      }
    },
    {
      "cell_type": "markdown",
      "source": [
        "**pancake sorting**"
      ],
      "metadata": {
        "id": "I2BZQWG30R7f"
      }
    },
    {
      "cell_type": "markdown",
      "source": [
        "**algo**\n",
        "\n",
        "1.start complete aray and decrease the size(n-1)\n",
        "\n",
        "2.for each size:\n",
        "\n",
        "a.find the index of max element\n",
        "\n",
        "b.flip the rray with max element\n",
        "\n",
        "c.flip the total array to the current size\n",
        "\n",
        "max->move to the end of the array\n",
        "\n",
        "3.repeat  step1 by n-2,n-3.....\n",
        "\n",
        "for nth reduced element perform step2 until 0th index value respectively...\n"
      ],
      "metadata": {
        "id": "9ds4FEzt1B_V"
      }
    },
    {
      "cell_type": "code",
      "source": [
        "#arrr=[88,9,0,5]\n",
        "def flip(arr,k):\n",
        "  return arr[:k+1][::-1]+arr[k+1:]\n",
        "def pancake(arr):\n",
        "  n=len(arr)\n",
        "  for size in range(n,1,-1):\n",
        "    max_index=arr.index(max(arr[:size]))\n",
        "    if max_index !=size-1:\n",
        "      if max_index!=0:\n",
        "        arr=flip(arr,max_index)\n",
        "        print(f\"Flip at {max_index+1}: {arr}\")\n",
        "      arr=flip(arr,size-1)\n",
        "      print(f\"Flip at {size}: {arr}\")\n",
        "  return arr\n",
        "nums=list(map(int,input(\"Enter numbers seperated with space:\").split()))\n",
        "sorted_nums=pancake(nums)\n",
        "print(\"Sorted array:\",sorted_nums)\n"
      ],
      "metadata": {
        "colab": {
          "base_uri": "https://localhost:8080/"
        },
        "id": "djrNQ1st0eRF",
        "outputId": "253abd5b-2393-4798-8df9-55e1016f00ab"
      },
      "execution_count": null,
      "outputs": [
        {
          "output_type": "stream",
          "name": "stdout",
          "text": [
            "Enter numbers seperated with space:9 1 8 4 4 3 7 \n",
            "Flip at 7: [7, 3, 4, 4, 8, 1, 9]\n",
            "Flip at 5: [8, 4, 4, 3, 7, 1, 9]\n",
            "Flip at 6: [1, 7, 3, 4, 4, 8, 9]\n",
            "Flip at 2: [7, 1, 3, 4, 4, 8, 9]\n",
            "Flip at 5: [4, 4, 3, 1, 7, 8, 9]\n",
            "Flip at 4: [1, 3, 4, 4, 7, 8, 9]\n",
            "Sorted array: [1, 3, 4, 4, 7, 8, 9]\n"
          ]
        }
      ]
    },
    {
      "cell_type": "markdown",
      "source": [
        "**File handling**\n",
        "\n",
        "files\n",
        "\n",
        "types\n",
        "\n",
        "paths\n",
        "\n",
        "open/close\n",
        "\n",
        "reading\n",
        "\n",
        "writing\n",
        "\n",
        "appending data into that file\n",
        "\n",
        "file,directory\n",
        "\n",
        "os module\n",
        "\n",
        "relative path and absolute path\n",
        "\n",
        "file types- ascii binary\n",
        "\n",
        "abc     979899\n",
        "\n",
        "open()   -file=open(\"filename.format\",\"mode\")   \n",
        "close()  \n"
      ],
      "metadata": {
        "id": "VJ_BYT5R_mhY"
      }
    },
    {
      "cell_type": "markdown",
      "source": [
        "r - reading the file which has existed\n",
        "\n",
        "w-write data in a file\n",
        "\n",
        "fileno()-file number\n",
        "\n",
        "flush()=file stream refresh\n",
        "\n",
        "readline/readlines\n",
        "\n",
        "turncate()\n",
        "\n",
        "rstrip()\n",
        "\n",
        "strip()\n",
        "\n",
        "isatty()"
      ],
      "metadata": {
        "id": "e0l5SzPfOsVX"
      }
    },
    {
      "cell_type": "code",
      "source": [
        "file=open(\"/content/Hello/sampl.txt\",\"r\")\n",
        "data=file.read()\n",
        "print(data)\n",
        "file.close()"
      ],
      "metadata": {
        "id": "OVRmrY8n6NpQ",
        "colab": {
          "base_uri": "https://localhost:8080/"
        },
        "outputId": "effa3966-e268-436f-adc4-ed32c295203e"
      },
      "execution_count": null,
      "outputs": [
        {
          "output_type": "stream",
          "name": "stdout",
          "text": [
            "helloooooooooo sirrrrrrrrrrrrrrrrrrrrr,\n",
            "Good Morning...😊\n"
          ]
        }
      ]
    },
    {
      "cell_type": "code",
      "source": [
        "file=open(\"/content/Hello/sampl.txt\",\"r\")\n",
        "data=file.readline()\n",
        "print(data)\n",
        "file.close()"
      ],
      "metadata": {
        "colab": {
          "base_uri": "https://localhost:8080/"
        },
        "id": "tk4c-X_hDC_g",
        "outputId": "d389cdbd-95bc-4360-ef58-979a64aabfe3"
      },
      "execution_count": null,
      "outputs": [
        {
          "output_type": "stream",
          "name": "stdout",
          "text": [
            "helloooooooooo sirrrrrrrrrrrrrrrrrrrrr,\n",
            "\n"
          ]
        }
      ]
    },
    {
      "cell_type": "code",
      "source": [
        "file=open(\"test.txt\",\"w\")\n",
        "file.write(\"My name is Abhi.........How are u\")\n",
        "file.close()"
      ],
      "metadata": {
        "id": "dfOmefLpDtFH"
      },
      "execution_count": null,
      "outputs": []
    },
    {
      "cell_type": "code",
      "source": [
        "file=open(\"test.txt\",\"a\")\n",
        "file.write(\"\\nCongratulations u r qualifiled😊\")\n",
        "file.close()"
      ],
      "metadata": {
        "id": "KvMeUatuGJEg"
      },
      "execution_count": null,
      "outputs": []
    },
    {
      "cell_type": "code",
      "source": [
        "file=open(\"sample.bin\",\"wb\")\n",
        "file.write(\"u r joining date will be announced soon.......\".encode())\n",
        "file.close()"
      ],
      "metadata": {
        "id": "6IuZrk0cIjwQ"
      },
      "execution_count": null,
      "outputs": []
    },
    {
      "cell_type": "code",
      "source": [
        "with open(\"sample.bin\",\"wb\") as file:\n",
        "  data=b'\\x48\\x65\\x6c\\x6c\\x6F'\n",
        "  file.write(data)"
      ],
      "metadata": {
        "id": "NhO0VnV8LEN4"
      },
      "execution_count": null,
      "outputs": []
    },
    {
      "cell_type": "code",
      "source": [
        "file=open(\"/content/Hello/sampl.txt\",\"r\")\n",
        "for line in file:\n",
        "  print(line.strip())\n",
        "data=file.read()\n",
        "print(data)\n"
      ],
      "metadata": {
        "colab": {
          "base_uri": "https://localhost:8080/"
        },
        "id": "9FXlE3s8MNdF",
        "outputId": "deaf21d8-d751-4c62-ae8d-f1d8edec95e6"
      },
      "execution_count": null,
      "outputs": [
        {
          "output_type": "stream",
          "name": "stdout",
          "text": [
            "helloooooooooo sirrrrrrrrrrrrrrrrrrrrr,\n",
            "Good Morning...😊\n",
            "how are you.....???\n",
            "\n"
          ]
        }
      ]
    },
    {
      "cell_type": "markdown",
      "source": [
        "program that accepts filename as a input from the user open the file and count the number of times the character appears in the file"
      ],
      "metadata": {
        "id": "iFJOdd0lPh9n"
      }
    },
    {
      "cell_type": "code",
      "source": [
        "filename=input(\"enter the name of the file:\")\n",
        "with open(filename) as file:\n",
        "  text=file.read()\n",
        "  letter=input(\"enter the letter to count:\")\n",
        "  c=0\n",
        "  for char in text:\n",
        "    if char==letter:\n",
        "      c+=1\n",
        "print(f\"The letter '{letter}' appears {c} times in the file.\")\n"
      ],
      "metadata": {
        "colab": {
          "base_uri": "https://localhost:8080/"
        },
        "id": "-unuQB7yPwxY",
        "outputId": "3c15638a-3879-441d-e25b-ef49fcafb524"
      },
      "execution_count": null,
      "outputs": [
        {
          "output_type": "stream",
          "name": "stdout",
          "text": [
            "enter the name of the file:/content/Hello/sampl.txt\n",
            "enter the letter to count:r\n",
            "The letter 'r' appears 23 times in the file.\n"
          ]
        }
      ]
    },
    {
      "cell_type": "code",
      "source": [
        "import os\n",
        "os.rename(\"/content/Text.txt\",\"text.txt\")\n",
        "print(\"Sucessfully renamed!!!!\")"
      ],
      "metadata": {
        "colab": {
          "base_uri": "https://localhost:8080/"
        },
        "id": "u3i0L-VEU7Yv",
        "outputId": "2b768b71-e9d1-4acd-9615-f0f8b903e4d3"
      },
      "execution_count": null,
      "outputs": [
        {
          "output_type": "stream",
          "name": "stdout",
          "text": [
            "Sucessfully renamed!!!!\n"
          ]
        }
      ]
    },
    {
      "cell_type": "code",
      "source": [
        "import os\n",
        "os.remove(\"/content/test.txt\")\n",
        "print(\"Sucessfully deleted!!!!\")"
      ],
      "metadata": {
        "colab": {
          "base_uri": "https://localhost:8080/"
        },
        "id": "1z4baYe3X90A",
        "outputId": "eeae3992-3db9-4c1e-800e-24ba5880b5b1"
      },
      "execution_count": null,
      "outputs": [
        {
          "output_type": "stream",
          "name": "stdout",
          "text": [
            "Sucessfully deleted!!!!\n"
          ]
        }
      ]
    },
    {
      "cell_type": "markdown",
      "source": [
        "**17-07-2025**"
      ],
      "metadata": {
        "id": "CvwI05AYaIC-"
      }
    },
    {
      "cell_type": "code",
      "source": [
        "with open(\"/content/sample_data/file1.txt\",'w')as f:\n",
        "  f.write(\"Abhigna Vakkalagadda\")\n",
        "with open(\"/content/sample_data/file1.txt\",'r+') as f:\n",
        "  data=f.read()\n",
        "  print(\"Previous:\",data)\n",
        "  new_data=data.replace(\"Vakkalagadda\",\"VAKKALAGADDA\")\n",
        "  f.seek(0)\n",
        "  f.write(new_data)\n",
        "  f.truncate()\n",
        "with open(\"/content/sample_data/file1.txt\",\"r\")as f:\n",
        "  data=f.read()\n",
        "  print(\"Updated:\",data)"
      ],
      "metadata": {
        "colab": {
          "base_uri": "https://localhost:8080/"
        },
        "id": "beORDUBFdUef",
        "outputId": "88304568-88ab-4608-87f1-15b8d1563bbf"
      },
      "execution_count": null,
      "outputs": [
        {
          "output_type": "stream",
          "name": "stdout",
          "text": [
            "Previous: Abhigna Vakkalagadda\n",
            "Updated: Abhigna VAKKALAGADDA\n"
          ]
        }
      ]
    },
    {
      "cell_type": "code",
      "source": [
        "with open(\"/content/sample_data/file1.txt\",'w+')as f:\n",
        "  f.write(\"Hello Students..!!!!!!\")\n",
        "  f.seek(0)\n",
        "  data=f.read()\n",
        "  print(\"Previous:\",data)\n",
        "  new_data=data.replace(\"Students..!!!!!!\",\"Future Izzzzzzzzz\")\n",
        "  f.seek(0)\n",
        "  f.write(new_data)\n",
        "  f.truncate()\n",
        "with open(\"/content/sample_data/file1.txt\",\"r\")as f:\n",
        "  print(\"Updated:\",f.read())"
      ],
      "metadata": {
        "colab": {
          "base_uri": "https://localhost:8080/"
        },
        "id": "ShAooc_ikjf-",
        "outputId": "903bf34d-c2c9-4409-fb41-121d3acf03c4"
      },
      "execution_count": null,
      "outputs": [
        {
          "output_type": "stream",
          "name": "stdout",
          "text": [
            "Previous: Hello Students..!!!!!!\n",
            "Updated: Hello Future Izzzzzzzzz\n"
          ]
        }
      ]
    },
    {
      "cell_type": "code",
      "source": [
        "with open(\"/content/sample_data/log.txt\",'a+')as f:\n",
        "    f.write(\"\\nLatest Line appended now...................\")\n",
        "    f.seek(0)\n",
        "    data=f.read()\n",
        "    print(\"Current data:\\n\",data)\n"
      ],
      "metadata": {
        "colab": {
          "base_uri": "https://localhost:8080/"
        },
        "id": "ufEsDgF5lTKu",
        "outputId": "dd87b6c0-6eea-4d31-e89a-b17f7b73fc01"
      },
      "execution_count": null,
      "outputs": [
        {
          "output_type": "stream",
          "name": "stdout",
          "text": [
            "Current data:\n",
            " Latest Line appended now...................Latest Line appended now...................\n",
            "Latest Line appended now...................Latest Line appended now...................\n",
            "\n",
            "\n",
            "\n",
            "Latest Line appended now...................\n",
            "Latest Line appended now...................\n",
            "Latest Line appended now...................\n",
            "Latest Line appended now...................\n",
            "Latest Line appended now...................\n",
            "Latest Line appended now...................\n",
            "Latest Line appended now...................\n",
            "Latest Line appended now...................\n",
            "Latest Line appended now...................\n",
            "Latest Line appended now...................\n"
          ]
        }
      ]
    },
    {
      "cell_type": "code",
      "source": [
        "with open(\"/content/sample_data/log.txt\",'r')as f:\n",
        "  lines=f.readlines()\n",
        "with open(\"/content/sample_data/log.txt\",'w')as f:\n",
        "  for line in lines:\n",
        "    if line.strip()!='Latest Line appended now...................':\n",
        "      f.write(line)"
      ],
      "metadata": {
        "id": "-mnCaaTRoTxW"
      },
      "execution_count": null,
      "outputs": []
    },
    {
      "cell_type": "markdown",
      "source": [
        "**Serial number data deletion**"
      ],
      "metadata": {
        "id": "a1xnQah8vMq_"
      }
    },
    {
      "cell_type": "code",
      "source": [
        "idel=input(\"Enter excat line:\")\n",
        "with open(\"/content/sample_data/log.txt\",'r')as f:\n",
        "  lines=f.readlines()\n",
        "with open(\"/content/sample_data/log.txt\",'w')as f:\n",
        "  for line in lines:\n",
        "    if line.strip()!=idel.strip():\n",
        "      f.write(line)\n"
      ],
      "metadata": {
        "colab": {
          "base_uri": "https://localhost:8080/"
        },
        "id": "FRzwjEOZs1rW",
        "outputId": "eaee7151-2f9a-4e32-fba3-ae3b263b0de4"
      },
      "execution_count": null,
      "outputs": [
        {
          "name": "stdout",
          "output_type": "stream",
          "text": [
            "Enter excat line:four\n"
          ]
        }
      ]
    },
    {
      "cell_type": "code",
      "source": [
        "#Data Comparative deletion\n",
        "with open(\"/content/sample_data/log.txt\",'r')as f:\n",
        "  lines=f.readlines()\n",
        "with open(\"/content/sample_data/log.txt\",'w')as f:\n",
        "  for line in lines:\n",
        "    if line.strip()!='one':\n",
        "      f.write(line)"
      ],
      "metadata": {
        "id": "2SMHWOwRvR63"
      },
      "execution_count": null,
      "outputs": []
    },
    {
      "cell_type": "code",
      "source": [
        "f=open(\"/content/sample_data/log.txt\",'w')\n",
        "f.write(\"Hello\")\n",
        "print(f.isatty())"
      ],
      "metadata": {
        "colab": {
          "base_uri": "https://localhost:8080/"
        },
        "id": "IVxGo6hZtHig",
        "outputId": "1e6b1583-adfa-4237-9ffc-2fd2058813c2"
      },
      "execution_count": null,
      "outputs": [
        {
          "output_type": "stream",
          "name": "stdout",
          "text": [
            "False\n"
          ]
        }
      ]
    },
    {
      "cell_type": "code",
      "source": [
        "import sys\n",
        "print(\"Python version:\",sys.version)"
      ],
      "metadata": {
        "colab": {
          "base_uri": "https://localhost:8080/"
        },
        "id": "ZmnQW59_3Dtx",
        "outputId": "286c544d-97ee-4b0f-9605-977aa46b2d79"
      },
      "execution_count": null,
      "outputs": [
        {
          "output_type": "stream",
          "name": "stdout",
          "text": [
            "Python version: 3.11.13 (main, Jun  4 2025, 08:57:29) [GCC 11.4.0]\n"
          ]
        }
      ]
    },
    {
      "cell_type": "code",
      "source": [
        "import sys\n",
        "age=int(input(\"Enter Age:\"))\n",
        "if age<18:\n",
        "  print(\"Not Eligible to drive\")\n",
        "  sys.exit()\n",
        "print(\"You are Eligible\")"
      ],
      "metadata": {
        "colab": {
          "base_uri": "https://localhost:8080/"
        },
        "id": "SDcS2oAU37Kl",
        "outputId": "e77a587f-1223-4302-c2c9-358017b5e4cf"
      },
      "execution_count": null,
      "outputs": [
        {
          "output_type": "stream",
          "name": "stdout",
          "text": [
            "Enter Age:19\n",
            "You are Eligible\n"
          ]
        }
      ]
    },
    {
      "cell_type": "code",
      "source": [
        "import sys\n",
        "print(\"Platform:\",sys.platform)"
      ],
      "metadata": {
        "colab": {
          "base_uri": "https://localhost:8080/"
        },
        "id": "j0VpnWJy5NuK",
        "outputId": "531e5710-6d11-4e90-d389-061fa253fa45"
      },
      "execution_count": null,
      "outputs": [
        {
          "output_type": "stream",
          "name": "stdout",
          "text": [
            "Platform: linux\n"
          ]
        }
      ]
    },
    {
      "cell_type": "markdown",
      "source": [
        "sys.argv-----------cmd line arg\n",
        "\n",
        "sys.exit()\n",
        "\n",
        "sys.stderr---------error message\n",
        "\n",
        "sys.version\n",
        "\n",
        "sys.platform\n",
        "\n",
        "sys.recursionlimiit()\n",
        "\n",
        "sys.stdout---------it redirected to output\n",
        "\n"
      ],
      "metadata": {
        "id": "xShsxa1b59fv"
      }
    },
    {
      "cell_type": "markdown",
      "source": [
        "**19-07-2025**"
      ],
      "metadata": {
        "id": "TOYm0bNy3rQ9"
      }
    },
    {
      "cell_type": "markdown",
      "source": [
        "**Exception handiling**\n",
        "\n",
        "**errors**\n",
        "\n",
        "logical errors\n",
        "\n",
        "syntax errors\n",
        "\n",
        "**Exceptions**\n",
        "\n",
        "1.synchronous Exceptions-- Any exceptions can be sloved\n",
        "\n",
        "2.Asynchronous Exceptions--Any exception that can't be solved\n",
        "\n",
        "\n",
        "\n"
      ],
      "metadata": {
        "id": "4GYLp65G3xeW"
      }
    },
    {
      "cell_type": "code",
      "source": [
        "print(11/0)"
      ],
      "metadata": {
        "id": "I_QAN0NF5vip",
        "colab": {
          "base_uri": "https://localhost:8080/",
          "height": 141
        },
        "outputId": "9eba21f0-165f-4467-f473-06084cb43b34"
      },
      "execution_count": null,
      "outputs": [
        {
          "output_type": "error",
          "ename": "ZeroDivisionError",
          "evalue": "division by zero",
          "traceback": [
            "\u001b[0;31m---------------------------------------------------------------------------\u001b[0m",
            "\u001b[0;31mZeroDivisionError\u001b[0m                         Traceback (most recent call last)",
            "\u001b[0;32m/tmp/ipython-input-1-807276162.py\u001b[0m in \u001b[0;36m<cell line: 0>\u001b[0;34m()\u001b[0m\n\u001b[0;32m----> 1\u001b[0;31m \u001b[0mprint\u001b[0m\u001b[0;34m(\u001b[0m\u001b[0;36m11\u001b[0m\u001b[0;34m/\u001b[0m\u001b[0;36m0\u001b[0m\u001b[0;34m)\u001b[0m\u001b[0;34m\u001b[0m\u001b[0;34m\u001b[0m\u001b[0m\n\u001b[0m",
            "\u001b[0;31mZeroDivisionError\u001b[0m: division by zero"
          ]
        }
      ]
    },
    {
      "cell_type": "code",
      "source": [
        "print('11'+0)"
      ],
      "metadata": {
        "colab": {
          "base_uri": "https://localhost:8080/",
          "height": 141
        },
        "id": "iBbPxgxp8Ccw",
        "outputId": "810b0ff7-5ede-4e7c-fa82-b2b008c44fda"
      },
      "execution_count": null,
      "outputs": [
        {
          "output_type": "error",
          "ename": "TypeError",
          "evalue": "can only concatenate str (not \"int\") to str",
          "traceback": [
            "\u001b[0;31m---------------------------------------------------------------------------\u001b[0m",
            "\u001b[0;31mTypeError\u001b[0m                                 Traceback (most recent call last)",
            "\u001b[0;32m/tmp/ipython-input-2-1178478500.py\u001b[0m in \u001b[0;36m<cell line: 0>\u001b[0;34m()\u001b[0m\n\u001b[0;32m----> 1\u001b[0;31m \u001b[0mprint\u001b[0m\u001b[0;34m(\u001b[0m\u001b[0;34m'11'\u001b[0m\u001b[0;34m+\u001b[0m\u001b[0;36m0\u001b[0m\u001b[0;34m)\u001b[0m\u001b[0;34m\u001b[0m\u001b[0;34m\u001b[0m\u001b[0m\n\u001b[0m",
            "\u001b[0;31mTypeError\u001b[0m: can only concatenate str (not \"int\") to str"
          ]
        }
      ]
    },
    {
      "cell_type": "markdown",
      "source": [
        "Exception handling are completely case sensitive\n",
        "for all base classes exceptions are used\n",
        "\n",
        "**Exceptions**\n",
        "\n",
        "1.ArthmeticError\n",
        "\n",
        "2.ZeroDivisionError\n",
        "\n",
        "3.stopIteration--next method or iterator not available /condition not available\n",
        "\n",
        "4.SystemExit--current os exit\n",
        "\n",
        "5.StandardError -- these are the arrised  pre defined keywords\n",
        "\n",
        "6.EOFError -- i/o till the end of file\n",
        "\n",
        "7.ImportError -- file existing errors\n",
        "\n",
        "8.KeyboardInterrrupt --execution interrupt\n",
        "\n",
        "9.NameError --\n",
        "\n",
        "10.INdexError --\n",
        "\n",
        "11.ValueError --\n",
        "\n",
        "12.TypeError --\n",
        "\n",
        "13.IOError --\n",
        "\n",
        "14.SyntaxError --\n",
        "\n",
        "15.RutimeError --\n",
        "\n",
        "16.IndentationError --\n",
        "\n",
        "17.OverflowError --\n",
        "\n",
        "18.ArgumentError --\n",
        "\n",
        "\n",
        "19.AssertionError --\n",
        "\n",
        "20.FileNotFoundError --"
      ],
      "metadata": {
        "id": "xNRiKpBB8a9X"
      }
    },
    {
      "cell_type": "markdown",
      "source": [
        "this is the general synatx of exception\n",
        "\n",
        "try:\n",
        "\n",
        "-\n",
        "\n",
        "-\n",
        "\n",
        "Exception:\n",
        "\n",
        "-\n",
        "\n",
        "-\n"
      ],
      "metadata": {
        "id": "F2rd5GIJBN_Y"
      }
    },
    {
      "cell_type": "code",
      "source": [
        "try:\n",
        "  num1=int(input(\"Enter numerator:\"))\n",
        "  num2=int(input(\"Enter denominator:\"))\n",
        "  output=num1/num2\n",
        "  print(\"Result:\",output)\n",
        "except ZeroDivisionError:\n",
        "  print(\"Denominator cannot be zero\")\n"
      ],
      "metadata": {
        "colab": {
          "base_uri": "https://localhost:8080/"
        },
        "id": "ltVt_Ect8PxY",
        "outputId": "fa6e5c8d-5aa7-4a34-dee7-5609333877d2"
      },
      "execution_count": null,
      "outputs": [
        {
          "output_type": "stream",
          "name": "stdout",
          "text": [
            "Enter numerator:3\n",
            "Enter denominator:0\n",
            "Denominator cannot be zero\n"
          ]
        }
      ]
    },
    {
      "cell_type": "code",
      "source": [
        "try:\n",
        "  num1=int(input(\"Enter numerator:\"))\n",
        "  num2=int(input(\"Enter denominator:\"))\n",
        "  output=num1/num2\n",
        "  print(\"Result:\",output)\n",
        "except ZeroDivisionError:\n",
        "  print(\"Denominator cannot be zero\")\n",
        "except ValueError:\n",
        "  print(\"Invalid input.Please enter valid numbers.\")\n",
        "except Exception:\n",
        "  print(\"An unexpected error occurred.\")\n",
        "except KeyboardInterrupt:\n",
        "  print(\"Operation Interrupted\")\n"
      ],
      "metadata": {
        "colab": {
          "base_uri": "https://localhost:8080/"
        },
        "id": "Yd9KCotVClZR",
        "outputId": "6c295a94-e55a-4059-ccf2-d5e06ebf6339"
      },
      "execution_count": null,
      "outputs": [
        {
          "output_type": "stream",
          "name": "stdout",
          "text": [
            "Enter numerator:4\n",
            "Enter denominator:ff\n",
            "Invalid input.Please enter valid numbers.\n"
          ]
        }
      ]
    },
    {
      "cell_type": "code",
      "source": [
        "try:\n",
        "  filename=input(\"Enter the file name:\")\n",
        "  file=open(filename,'r')\n",
        "  print(\"Number from file\",number)\n",
        "except FileNotFoundError:\n",
        "  print(\"File does not exist\")\n",
        "except ValueError:\n",
        "  print(\"Invalid number in the file\")\n",
        "except:\n",
        "  print(\"UNknown Error.........\")"
      ],
      "metadata": {
        "colab": {
          "base_uri": "https://localhost:8080/"
        },
        "id": "Upk7i-euEUaP",
        "outputId": "aff4a716-0a08-4792-928f-fcd007789441"
      },
      "execution_count": null,
      "outputs": [
        {
          "output_type": "stream",
          "name": "stdout",
          "text": [
            "Enter the file name:1\n",
            "File does not exist\n"
          ]
        }
      ]
    },
    {
      "cell_type": "code",
      "source": [
        "try:\n",
        "  filename=input(\"Enter the file name:\")\n",
        "  file=open(filename,'r')\n",
        "  print(\"Number from file\",number)\n",
        "except FileNotFoundError:\n",
        "  print(\"File does not exist\")\n",
        "except ValueError:\n",
        "  print(\"Invalid number in the file\")\n",
        "except:\n",
        "  print(\"UNknown Error.........\")"
      ],
      "metadata": {
        "colab": {
          "base_uri": "https://localhost:8080/"
        },
        "id": "N_g2aA8tFLZh",
        "outputId": "39bb349a-69a5-433e-a8f6-887a5571c62a"
      },
      "execution_count": null,
      "outputs": [
        {
          "output_type": "stream",
          "name": "stdout",
          "text": [
            "Enter the file name:/content/sample_data/california_housing_test.csv\n",
            "UNknown Error.........\n"
          ]
        }
      ]
    },
    {
      "cell_type": "code",
      "source": [
        "try:\n",
        "  filename=input(\"Enter the file name:\")\n",
        "  file=open(filename,'r')\n",
        "  number=int(file.readline())\n",
        "  print(\"Number from file\",number)\n",
        "  file.close()\n",
        "except FileNotFoundError:\n",
        "  print(\"File does not exist\")\n",
        "except ValueError:\n",
        "  print(\"File doesn't have integer...\")\n",
        "except:\n",
        "  print(\"UNknown Error.........\")"
      ],
      "metadata": {
        "colab": {
          "base_uri": "https://localhost:8080/"
        },
        "id": "UCWF1iP0Gh_H",
        "outputId": "ae213fee-15ba-4eba-d360-e739f0f6ed22"
      },
      "execution_count": null,
      "outputs": [
        {
          "output_type": "stream",
          "name": "stdout",
          "text": [
            "Enter the file name:/content/sample_data/file1\n",
            "Number from file 1\n"
          ]
        }
      ]
    },
    {
      "cell_type": "code",
      "source": [
        "try:\n",
        "  filename=input(\"Enter the file name:\")\n",
        "  file=open(filename,'r')\n",
        "  number=int(file.readline())\n",
        "  print(\"Number from file\",number)\n",
        "  lines = []\n",
        "  for _ in range(10):\n",
        "      line = file.readline()\n",
        "      if not line:\n",
        "          break\n",
        "      lines.append(line.strip())\n",
        "  if not lines:\n",
        "      print(\"The file is empty or contains no readable lines.\")\n",
        "  file.close()\n",
        "except FileNotFoundError:\n",
        "  print(\"File does not exist\")\n",
        "except ValueError:\n",
        "  print(\"File doesn't have integer...\")\n",
        "except:\n",
        "  print(\"UNknown Error.........\")"
      ],
      "metadata": {
        "colab": {
          "base_uri": "https://localhost:8080/"
        },
        "id": "2gT-UzcTH5Hw",
        "outputId": "578e2128-ea74-48e0-b8ca-1c75983db8d6"
      },
      "execution_count": null,
      "outputs": [
        {
          "output_type": "stream",
          "name": "stdout",
          "text": [
            "Enter the file name:/content/sample_data/california_housing_train.csv\n",
            "File doesn't have integer...\n"
          ]
        }
      ]
    },
    {
      "cell_type": "code",
      "source": [
        "try:\n",
        "  num=int(input(\"Enter a number:\"))\n",
        "  print(num**3)\n",
        "except (KeyboardInterrupt,ValueError,TypeError):\n",
        "  print(\"Please check before executing....\")\n",
        "print(\"Program Terminated.....\")"
      ],
      "metadata": {
        "colab": {
          "base_uri": "https://localhost:8080/"
        },
        "id": "p9TugEc9JbyP",
        "outputId": "f4096489-1865-4b22-9138-e516b4598dc3"
      },
      "execution_count": null,
      "outputs": [
        {
          "output_type": "stream",
          "name": "stdout",
          "text": [
            "Enter a number:22KN1A44B9\n",
            "Please check before executing....\n",
            "Program Terminated.....\n"
          ]
        }
      ]
    },
    {
      "cell_type": "code",
      "source": [
        "try:\n",
        "  num=int(input(\"Enter a number:\"))\n",
        "  print(num**3)\n",
        "except (KeyboardInterrupt,ValueError,TypeError):\n",
        "  print(\"Please check before executing....\")\n",
        "print(\"Program Terminated.....\")"
      ],
      "metadata": {
        "colab": {
          "base_uri": "https://localhost:8080/"
        },
        "id": "ZvAu28Z6J903",
        "outputId": "bf5ee1a9-7b1f-4bba-b918-5f3dc9979ca6"
      },
      "execution_count": null,
      "outputs": [
        {
          "output_type": "stream",
          "name": "stdout",
          "text": [
            "Enter a number:119\n",
            "1685159\n",
            "Program Terminated.....\n"
          ]
        }
      ]
    },
    {
      "cell_type": "code",
      "source": [
        "import math\n",
        "try:\n",
        "  num=int(input(\"Enter a number:\"))\n",
        "  if num<0:\n",
        "    raise ValueError(\"Negative number...........\")\n",
        "except ValueError:\n",
        "  print(\"Enter a positive number\")\n",
        "else:\n",
        "  print(\"Squareroot:\",round(math.sqrt(num),4))\n"
      ],
      "metadata": {
        "colab": {
          "base_uri": "https://localhost:8080/"
        },
        "id": "hpmeB2IXJ-X2",
        "outputId": "9fca8096-a505-4127-af53-748a2bd0662e"
      },
      "execution_count": null,
      "outputs": [
        {
          "output_type": "stream",
          "name": "stdout",
          "text": [
            "Enter a number:2\n",
            "Squareroot: 1.4142\n"
          ]
        }
      ]
    },
    {
      "cell_type": "code",
      "source": [
        "import math\n",
        "try:\n",
        "  num=int(input(\"Enter a number:\"))\n",
        "  print(num)\n",
        "  raise ValueError\n",
        "except:\n",
        "  print(\"Exception Raised intentionally even no use........\")\n"
      ],
      "metadata": {
        "colab": {
          "base_uri": "https://localhost:8080/"
        },
        "id": "oJmdI3d1Ly1I",
        "outputId": "b5e7747f-0a34-4be2-b468-b25b3d18b188"
      },
      "execution_count": null,
      "outputs": [
        {
          "output_type": "stream",
          "name": "stdout",
          "text": [
            "Enter a number:q\n",
            "Exception Raised intentionally even no use........\n"
          ]
        }
      ]
    },
    {
      "cell_type": "code",
      "metadata": {
        "colab": {
          "base_uri": "https://localhost:8080/"
        },
        "id": "8e64818d",
        "outputId": "eae2cfc5-322e-40fd-8d08-a2a376222be4"
      },
      "source": [
        "import logging\n",
        "\n",
        "logging.basicConfig(\n",
        "    level=logging.ERROR,\n",
        "    format='%(asctime)s - %(levelname)s - %(message)s',\n",
        "    handlers=[\n",
        "        logging.StreamHandler(),\n",
        "        logging.FileHandler(\"exception_log.txt\", mode='a')\n",
        "    ]\n",
        ")\n",
        "try:\n",
        "    result = 10 / 0\n",
        "except ZeroDivisionError as e:\n",
        "    print(f\"Caught ZeroDivisionError: {e}\")\n",
        "    logging.error(f\"ZeroDivisionError occurred: {e}\")\n",
        "try:\n",
        "    with open(\"non_existent_file.txt\", 'r') as f:\n",
        "        data = f.read()\n",
        "except FileNotFoundError as e:\n",
        "    print(f\"Caught FileNotFoundError: {e}\")\n",
        "    logging.error(f\"FileNotFoundError occurred: {e}\")\n",
        "try:\n",
        "    num = int(\"abc\")\n",
        "except ValueError as e:\n",
        "    print(f\"Caught ValueError: {e}\")\n",
        "    logging.error(f\"ValueError occurred: {e}\")\n",
        "try:\n",
        "    my_list = [1, 2, 3]\n",
        "    item = my_list[5]\n",
        "except IndexError as e:\n",
        "    print(f\"Caught IndexError: {e}\")\n",
        "    logging.error(f\"IndexError occurred: {e}\")\n",
        "print(\"Program finished.\")"
      ],
      "execution_count": null,
      "outputs": [
        {
          "output_type": "stream",
          "name": "stderr",
          "text": [
            "ERROR:root:ZeroDivisionError occurred: division by zero\n",
            "ERROR:root:FileNotFoundError occurred: [Errno 2] No such file or directory: 'non_existent_file.txt'\n",
            "ERROR:root:ValueError occurred: invalid literal for int() with base 10: 'abc'\n",
            "ERROR:root:IndexError occurred: list index out of range\n"
          ]
        },
        {
          "output_type": "stream",
          "name": "stdout",
          "text": [
            "Caught ZeroDivisionError: division by zero\n",
            "Caught FileNotFoundError: [Errno 2] No such file or directory: 'non_existent_file.txt'\n",
            "Caught ValueError: invalid literal for int() with base 10: 'abc'\n",
            "Caught IndexError: list index out of range\n",
            "Program finished.\n"
          ]
        }
      ]
    },
    {
      "cell_type": "code",
      "source": [
        "import datetime\n",
        "try:\n",
        "  x=int(input(\"Enter numerator:\"))\n",
        "  y=int(input(\"Enter denominator:\"))\n",
        "  output=x/y\n",
        "  print(\"Result:\",output)\n",
        "except Exception as e:\n",
        "  ct=datetime.datetime.now().strftime(\"%Y-%m-%d %H:%M:%S\")\n",
        "  txt=f\"[{ct}] Error:{str(e)} \\n\"\n",
        "  with open(\"data.txt\",'a')as file:\n",
        "    file.write(txt)"
      ],
      "metadata": {
        "colab": {
          "base_uri": "https://localhost:8080/"
        },
        "id": "jJfUWpXnXMCp",
        "outputId": "e88f2e71-1f95-4cda-c6f9-b16077ff9d3b"
      },
      "execution_count": null,
      "outputs": [
        {
          "name": "stdout",
          "output_type": "stream",
          "text": [
            "Enter numerator:6\n",
            "Enter denominator:0\n"
          ]
        }
      ]
    },
    {
      "cell_type": "code",
      "source": [],
      "metadata": {
        "id": "9A7CkH55YxIC"
      },
      "execution_count": null,
      "outputs": []
    }
  ]
}